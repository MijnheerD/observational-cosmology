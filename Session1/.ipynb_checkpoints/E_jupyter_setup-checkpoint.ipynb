{
 "cells": [
  {
   "cell_type": "code",
   "execution_count": 1,
   "metadata": {},
   "outputs": [],
   "source": [
    "import matplotlib.pyplot as plt\n",
    "%matplotlib inline\n",
    "import numpy as np\n",
    "\n",
    "# Main references:\n",
    "# https://en.wikipedia.org/wiki/Orders_of_magnitude_(length)\n",
    "# https://en.wikipedia.org/wiki/Orders_of_magnitude_(mass)\n",
    "name = ['Observable Universe', 'Milky Way', 'Sun', \\\n",
    "        'Earth', 'Khufu Pyramid', 'Human', 'Mosquito', \\\n",
    "        'Bacterium', 'Hydrogen Atom']\n",
    "size = [1e27, 2e21, 1e9, 1e7, 1e2, 1, 1e-3, 1e-6, 1e-15]\n",
    "mass = [6e52, 1e42, 2e30, 6e24, 6e9, 70, 2e-6, 1e-15, 2e-27]\n",
    "\n",
    "# Plot the masses as function of sizes.\n",
    "plt.plot(size, mass, 'or')\n",
    "for nm, sz, ms in zip(name, size, mass):\n",
    "    plt.annotate(nm, (sz, ms), ha='center', va='bottom')\n",
    "\n",
    "# Mass-size relation with the water density.\n",
    "#size_water = np.logspace(-15, 27)\n",
    "# TODO: compute the mass given size_water\n",
    "#mass_water = ...\n",
    "#plt.plot(size_water, mass_water, 'b')\n",
    "        \n",
    "plt.xlabel('Size [m]')\n",
    "plt.ylabel('Mass [kg]')\n",
    "plt.xscale('log')\n",
    "plt.yscale('log')\n",
    "plt.show()"
   ]
  },
  {
   "cell_type": "code",
   "execution_count": null,
   "metadata": {},
   "outputs": [],
   "source": []
  }
 ],
 "metadata": {
  "kernelspec": {
   "display_name": "Python 3",
   "language": "python",
   "name": "python3"
  },
  "language_info": {
   "codemirror_mode": {
    "name": "ipython",
    "version": 3
   },
   "file_extension": ".py",
   "mimetype": "text/x-python",
   "name": "python",
   "nbconvert_exporter": "python",
   "pygments_lexer": "ipython3",
   "version": "3.6.8"
  }
 },
 "nbformat": 4,
 "nbformat_minor": 4
}
