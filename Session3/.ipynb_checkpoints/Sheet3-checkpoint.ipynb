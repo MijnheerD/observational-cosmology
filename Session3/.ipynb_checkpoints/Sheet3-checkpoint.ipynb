{
 "cells": [
  {
   "cell_type": "code",
   "execution_count": 9,
   "metadata": {},
   "outputs": [],
   "source": [
    "import numpy as np\n",
    "import matplotlib.pyplot as plt\n",
    "from scipy.constants import c, h"
   ]
  },
  {
   "cell_type": "markdown",
   "metadata": {},
   "source": [
    "# Exercise 1"
   ]
  },
  {
   "cell_type": "code",
   "execution_count": 6,
   "metadata": {},
   "outputs": [
    {
     "name": "stdout",
     "output_type": "stream",
     "text": [
      "4.638167368214892e-31\n",
      "2.467110302241964e-05\n"
     ]
    }
   ],
   "source": [
    "a = 7.56 * 10**(-16) #J m^-3 K^-4\n",
    "rho_crit_0 = 1.88 * 10**(-26) #h^2 kg m^-3\n",
    "T = 2.725 #K\n",
    "\n",
    "rho_CMB_0 = a * T**4 / c**2\n",
    "print(rho_CMB_0)\n",
    "\n",
    "Omega_CMB_0 = rho_CMB_0/rho_crit_0\n",
    "print(Omega_CMB_0)"
   ]
  },
  {
   "cell_type": "code",
   "execution_count": 7,
   "metadata": {},
   "outputs": [
    {
     "name": "stdout",
     "output_type": "stream",
     "text": [
      "4.111303787807377e-09\n"
     ]
    }
   ],
   "source": [
    "k = 1.38 * 10**(-23) #J K^-1\n",
    "\n",
    "E_per_photon = 3*k*T\n",
    "n_photons = rho_CMB_0/E_per_photon\n",
    "print(n_photons)"
   ]
  },
  {
   "cell_type": "code",
   "execution_count": 8,
   "metadata": {},
   "outputs": [
    {
     "name": "stdout",
     "output_type": "stream",
     "text": [
      "2.7070121363751562e-18\n"
     ]
    }
   ],
   "source": [
    "Omega_b_0 = 0.022 #h^-2\n",
    "m_p = 1.7 * 10**(-27) #kg\n",
    "\n",
    "rho_b_0 = Omega_b_0*rho_crit_0\n",
    "n_b = rho_b_0/(m_p * c**2)\n",
    "print(n_b)"
   ]
  },
  {
   "cell_type": "markdown",
   "metadata": {},
   "source": [
    "# Exercise 2"
   ]
  }
 ],
 "metadata": {
  "kernelspec": {
   "display_name": "Astro-IV",
   "language": "python",
   "name": "py3_astro_iv"
  },
  "language_info": {
   "codemirror_mode": {
    "name": "ipython",
    "version": 3
   },
   "file_extension": ".py",
   "mimetype": "text/x-python",
   "name": "python",
   "nbconvert_exporter": "python",
   "pygments_lexer": "ipython3",
   "version": "3.6.9"
  }
 },
 "nbformat": 4,
 "nbformat_minor": 4
}
