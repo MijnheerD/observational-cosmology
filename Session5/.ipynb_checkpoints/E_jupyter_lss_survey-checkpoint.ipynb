{
 "cells": [
  {
   "cell_type": "code",
   "execution_count": null,
   "metadata": {},
   "outputs": [],
   "source": [
    "# Mean number density of BOSS LRGs\n",
    "from nbodykit.lab import cosmology\n",
    "import numpy as np\n",
    "\n",
    "num = ... # number of galaxies\n",
    "area = ... # area of the BOSS survey \n",
    "zmin = ... # minimum redshift of BOSS survey\n",
    "zmax = ... # maximum redshift of BOSS survey\n",
    "angle_max = ...  # largest angular separation between galaxies\n",
    "\n",
    "# The ratio of the BOSS survey area to the full sky area\n",
    "sky_area = ...\n",
    "area_frac = ...\n",
    "\n",
    "# The range of the radial comoving distance for BOSS LRGs\n",
    "cosmo = cosmology.Planck15\n",
    "dC_min = ...\n",
    "dC_max = ...\n",
    "\n",
    "# The comoving volume of BOSS LRGs\n",
    "sky_vol = ...\n",
    "volume = ...\n",
    "print('Comoving volume of BOSS LRGs: ' \\\n",
    "      '{0:g} Mpc^3 h^{{-3}}'.format(volume))\n",
    "\n",
    "# The mean number density of BOSS LRGs\n",
    "dens = ...\n",
    "print('Mean number density of BOSS LRGs: ' \\\n",
    "      '{0:g} h^3 Mpc^{{-3}}'.format(dens))\n",
    "\n",
    "# The maximum transverse comoving distance \n",
    "# between two galaxies\n",
    "angle = angle_max * np.pi / 180.0 # in radians\n",
    "d_CT = ...\n",
    "\n",
    "# The minimum side length of the box covering all BOSS\n",
    "# data.\n",
    "L_sim = ...\n",
    "print('Minimum side length of the simulation ' \\\n",
    "      'box for BOSS LRGs:\\n  {0:g} Mpc/h'.format(L_sim))"
   ]
  }
 ],
 "metadata": {
  "kernelspec": {
   "display_name": "Astro-IV",
   "language": "python",
   "name": "py3_astro_iv"
  },
  "language_info": {
   "codemirror_mode": {
    "name": "ipython",
    "version": 3
   },
   "file_extension": ".py",
   "mimetype": "text/x-python",
   "name": "python",
   "nbconvert_exporter": "python",
   "pygments_lexer": "ipython3",
   "version": "3.6.9"
  }
 },
 "nbformat": 4,
 "nbformat_minor": 4
}
