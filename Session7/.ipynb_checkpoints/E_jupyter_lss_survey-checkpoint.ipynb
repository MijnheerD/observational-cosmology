{
 "cells": [
  {
   "cell_type": "code",
   "execution_count": 4,
   "metadata": {},
   "outputs": [
    {
     "name": "stdout",
     "output_type": "stream",
     "text": [
      "Comoving volume of BOSS LRGs: 5.78383e+09 Mpc^3 h^{-3}\n"
     ]
    }
   ],
   "source": [
    "# Mean number density of BOSS LRGs\n",
    "from nbodykit.lab import cosmology\n",
    "import numpy as np\n",
    "\n",
    "num = 1.2 * 10**6 # number of galaxies\n",
    "area = 9329 # area of the BOSS survey, in deg^2 \n",
    "zmin = 0.2 # minimum redshift of BOSS survey\n",
    "zmax = 0.75 # maximum redshift of BOSS survey\n",
    "angle_max = 150  # largest angular separation between galaxies, in deg\n",
    "\n",
    "# The ratio of the BOSS survey area to the full sky area\n",
    "sky_area = 4 * np.pi * (180.0 / np.pi)**2 #deg^2\n",
    "area_frac = area / sky_area\n",
    "\n",
    "# The range of the radial comoving distance for BOSS LRGs\n",
    "cosmo = cosmology.Planck15\n",
    "dC_min = cosmo.comoving_distance(zmin)\n",
    "dC_max = cosmo.comoving_distance(zmax)\n",
    "\n",
    "# The comoving volume of BOSS LRGs\n",
    "sky_vol = 4.0/3.0 * np.pi * (dC_max**3 - dC_min**3)\n",
    "volume = sky_vol * area_frac\n",
    "print('Comoving volume of BOSS LRGs: ' \\\n",
    "      '{0:g} Mpc^3 h^{{-3}}'.format(volume))"
   ]
  },
  {
   "cell_type": "code",
   "execution_count": 6,
   "metadata": {},
   "outputs": [
    {
     "name": "stdout",
     "output_type": "stream",
     "text": [
      "Mean number density of BOSS LRGs: 0.000207475 h^3 Mpc^{-3}\n",
      "Minimum side length of the simulation box for BOSS LRGs:\n",
      "  2790.43 Mpc/h\n"
     ]
    }
   ],
   "source": [
    "# The mean number density of BOSS LRGs\n",
    "dens = num / volume\n",
    "print('Mean number density of BOSS LRGs: ' \\\n",
    "      '{0:g} h^3 Mpc^{{-3}}'.format(dens))\n",
    "\n",
    "# The maximum transverse comoving distance \n",
    "# between two galaxies\n",
    "angle = angle_max * np.pi / 180.0 # in radians\n",
    "d_CT = angle * cosmo.comoving_transverse_distance(zmax)\n",
    "\n",
    "# The minimum side length of the box covering all BOSS\n",
    "# data.\n",
    "L_sim = d_CT / np.sqrt(3)\n",
    "print('Minimum side length of the simulation ' \\\n",
    "      'box for BOSS LRGs:\\n  {0:g} Mpc/h'.format(L_sim))"
   ]
  },
  {
   "cell_type": "markdown",
   "metadata": {},
   "source": [
    "For the smallest simulation length, we can put the largest comoving distance on the diagonal."
   ]
  }
 ],
 "metadata": {
  "kernelspec": {
   "display_name": "Astro-IV",
   "language": "python",
   "name": "py3_astro_iv"
  },
  "language_info": {
   "codemirror_mode": {
    "name": "ipython",
    "version": 3
   },
   "file_extension": ".py",
   "mimetype": "text/x-python",
   "name": "python",
   "nbconvert_exporter": "python",
   "pygments_lexer": "ipython3",
   "version": "3.6.9"
  }
 },
 "nbformat": 4,
 "nbformat_minor": 4
}
